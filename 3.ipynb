{
 "cells": [
  {
   "cell_type": "code",
   "execution_count": null,
   "metadata": {},
   "outputs": [],
   "source": [
    "from findspark import init\n",
    "init()\n",
    "from pyspark import SparkContext\n",
    "from pyspark.sql import SparkSession\n",
    "from pyspark.sql.types import * \n",
    "from utils import *\n"
   ]
  },
  {
   "cell_type": "code",
   "execution_count": null,
   "metadata": {},
   "outputs": [],
   "source": [
    "spark = SparkSession.builder.appName(\"SparkTest\").master(\"local[*]\").getOrCreate()\n"
   ]
  },
  {
   "cell_type": "code",
   "execution_count": null,
   "metadata": {},
   "outputs": [],
   "source": [
    "empSchema = StructType([ StructField(\"emp_no\",LongType(),False),\n",
    "                        StructField(\"birth_date\",DateType(),False),\n",
    "                        StructField(\"first_name\",StringType(),True),\n",
    "                        StructField(\"last_name\",StringType(),True),\n",
    "                        StructField(\"gender\",StringType(),True),\n",
    "                        StructField(\"hire_date\",DateType(),False) ])\n",
    "\n",
    "titlesSchema = StructType([ StructField(\"emp_no\",LongType(),False),\n",
    "                            StructField(\"title\",StringType(),False),\n",
    "                            StructField(\"from_date\",DateType(),True),\n",
    "                            StructField(\"to_date\",DateType(),True) ])"
   ]
  },
  {
   "cell_type": "code",
   "execution_count": null,
   "metadata": {},
   "outputs": [],
   "source": [
    "empsRDD = spark.sparkContext.parallelize(getInputData(\"data/employees.json\"))\n",
    "empsDF  = spark.read.schema(empSchema).json(empsRDD)\n",
    "empsDF.createOrReplaceTempView(\"employees\")\n",
    "\n",
    "titlesRDD = spark.sparkContext.parallelize(getInputData(\"data/titles.json\"))\n",
    "titlesDF  = spark.read.schema(titlesSchema).json(titlesRDD)\n",
    "titlesDF.createOrReplaceTempView(\"titles\")\n",
    "\n",
    "title = spark.sql(\"select * from titles\") \\\n",
    "             .select('emp_no','title','from_date','to_date') \\\n",
    "             .where(\"from_date <= current_date and to_date > current_date\")\n",
    "title.cache()        \n",
    "        \n",
    "emp = spark.table(\"employees\")\n",
    "emp.cache()"
   ]
  },
  {
   "cell_type": "code",
   "execution_count": null,
   "metadata": {},
   "outputs": [],
   "source": []
  }
 ],
 "metadata": {
  "kernelspec": {
   "display_name": "Python 3",
   "language": "python",
   "name": "python3"
  },
  "language_info": {
   "codemirror_mode": {
    "name": "ipython",
    "version": 3
   },
   "file_extension": ".py",
   "mimetype": "text/x-python",
   "name": "python",
   "nbconvert_exporter": "python",
   "pygments_lexer": "ipython3",
   "version": "3.6.5"
  }
 },
 "nbformat": 4,
 "nbformat_minor": 2
}
