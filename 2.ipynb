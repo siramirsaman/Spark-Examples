{
 "cells": [
  {
   "cell_type": "code",
   "execution_count": null,
   "metadata": {},
   "outputs": [],
   "source": [
    "import findspark\n",
    "findspark.init()"
   ]
  },
  {
   "cell_type": "code",
   "execution_count": null,
   "metadata": {},
   "outputs": [],
   "source": [
    "import sys\n",
    "\n",
    "from pyspark import SparkContext, SparkConf\n",
    "\n",
    "if __name__ == \"__main__\":\n",
    "\n",
    "  # create Spark context with Spark configuration\n",
    "  conf = SparkConf().setAppName(\"Spark Count\")\n",
    "  sc = SparkContext(conf=conf)\n",
    "\n",
    "  # get threshold\n",
    "  threshold = int(sys.argv[2])\n",
    "\n",
    "  # read in text file and split each document into words\n",
    "  tokenized = sc.textFile(sys.argv[1]).flatMap(lambda line: line.split(\" \"))\n",
    "\n",
    "  # count the occurrence of each word\n",
    "  wordCounts = tokenized.map(lambda word: (word, 1)).reduceByKey(lambda v1,v2:v1 +v2)\n",
    "\n",
    "  # filter out words with fewer than threshold occurrences\n",
    "  filtered = wordCounts.filter(lambda pair:pair[1] >= threshold)\n",
    "\n",
    "  # count characters\n",
    "  charCounts = filtered.flatMap(lambda pair:pair[0]).map(lambda c: c).map(lambda c: (c, 1)).reduceByKey(lambda v1,v2:v1 +v2)\n",
    "\n",
    "  list = charCounts.collect()\n",
    "  print(repr(list)[1:-1])"
   ]
  },
  {
   "cell_type": "code",
   "execution_count": null,
   "metadata": {},
   "outputs": [],
   "source": []
  }
 ],
 "metadata": {
  "kernelspec": {
   "display_name": "Python 3",
   "language": "python",
   "name": "python3"
  },
  "language_info": {
   "codemirror_mode": {
    "name": "ipython",
    "version": 3
   },
   "file_extension": ".py",
   "mimetype": "text/x-python",
   "name": "python",
   "nbconvert_exporter": "python",
   "pygments_lexer": "ipython3",
   "version": "3.6.5"
  }
 },
 "nbformat": 4,
 "nbformat_minor": 2
}
